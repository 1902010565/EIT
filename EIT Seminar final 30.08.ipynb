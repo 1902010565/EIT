{
 "cells": [
  {
   "cell_type": "code",
   "execution_count": 1,
   "metadata": {
    "ExecuteTime": {
     "end_time": "2020-09-01T16:37:50.136034Z",
     "start_time": "2020-09-01T16:37:46.587192Z"
    },
    "scrolled": true
   },
   "outputs": [
    {
     "name": "stderr",
     "output_type": "stream",
     "text": [
      "C:\\Users\\Acer\\Anaconda3\\lib\\site-packages\\dask\\config.py:168: YAMLLoadWarning: calling yaml.load() without Loader=... is deprecated, as the default Loader is unsafe. Please read https://msg.pyyaml.org/load for full details.\n",
      "  data = yaml.load(f.read()) or {}\n",
      "C:\\Users\\Acer\\Anaconda3\\lib\\site-packages\\distributed\\config.py:20: YAMLLoadWarning: calling yaml.load() without Loader=... is deprecated, as the default Loader is unsafe. Please read https://msg.pyyaml.org/load for full details.\n",
      "  defaults = yaml.load(f)\n",
      "C:\\Users\\Acer\\Anaconda3\\lib\\site-packages\\outdated\\utils.py:18: OutdatedPackageWarning: The package pingouin is out of date. Your version is 0.3.6, the latest is 0.3.7.\n",
      "Set the environment variable OUTDATED_IGNORE=1 to disable these warnings.\n",
      "  **kwargs\n"
     ]
    }
   ],
   "source": [
    "import pandas as pd\n",
    "import numpy as np\n",
    "from scipy.stats import pearsonr\n",
    "\n",
    "import seaborn as sns \n",
    "sns.set(color_codes=True)\n",
    "\n",
    "import matplotlib.pyplot as plt \n",
    "\n",
    "from factor_analyzer import FactorAnalyzer\n",
    "import pingouin as pg\n",
    "\n",
    "from scipy import stats\n",
    "\n",
    "from factor_analyzer import FactorAnalyzer\n",
    "import matplotlib.pyplot as plt\n",
    "\n",
    "from factor_analyzer.factor_analyzer import calculate_kmo\n",
    "from factor_analyzer.factor_analyzer import calculate_bartlett_sphericity\n",
    "\n",
    "import statsmodels.api as sm"
   ]
  },
  {
   "cell_type": "markdown",
   "metadata": {},
   "source": [
    "Please specify a new file path on your computer"
   ]
  },
  {
   "cell_type": "code",
   "execution_count": 2,
   "metadata": {
    "ExecuteTime": {
     "end_time": "2020-09-01T16:37:50.176032Z",
     "start_time": "2020-09-01T16:37:50.139993Z"
    }
   },
   "outputs": [],
   "source": [
    "df = pd.read_csv(\"C:/Users/Acer/Downloads/Results lime 30.08.new3.csv\")"
   ]
  },
  {
   "cell_type": "markdown",
   "metadata": {},
   "source": [
    "## Data cleaning"
   ]
  },
  {
   "cell_type": "code",
   "execution_count": 3,
   "metadata": {
    "ExecuteTime": {
     "end_time": "2020-09-01T16:37:51.568483Z",
     "start_time": "2020-09-01T16:37:51.455464Z"
    }
   },
   "outputs": [],
   "source": [
    "#df.iloc[:,7]\n",
    "i=7\n",
    "\n",
    "for column in df:\n",
    "    while i < 17:\n",
    "        indicator = i-6\n",
    "        df.rename(columns={ df.columns[i]: \"Risk\" + str(indicator)}, inplace = True)\n",
    "        i+=1\n",
    "        \n",
    "    i+=4\n",
    "    \n",
    "    while i < 31:\n",
    "        indicator = i-20\n",
    "        df.rename(columns={ df.columns[i]: \"Loss\" + str(indicator)}, inplace = True)\n",
    "        i+=1\n",
    "    \n",
    "    while i < 42:\n",
    "        indicator = i-30\n",
    "        df.rename(columns={ df.columns[i]: \"WTA\" + str(indicator)}, inplace = True)\n",
    "        i+=1\n",
    "        \n",
    "    while i < 53:\n",
    "        indicator = i-41\n",
    "        df.rename(columns={ df.columns[i]: \"WTP\" + str(indicator)}, inplace = True)\n",
    "        i+=1\n",
    "        \n",
    "df.rename(columns={ df.columns[18]: \"Career\" }, inplace = True)\n",
    "df.rename(columns={ df.columns[19]: \"Finances\" }, inplace = True)\n",
    "df.rename(columns={ df.columns[20]: \"In general\" }, inplace = True)\n",
    "\n",
    "\n",
    "i= 53\n",
    "\n",
    "for column in df:\n",
    "    while i < 65:\n",
    "            #indicator = i-41\n",
    "            df.rename(columns={ df.columns[i]: df.columns[i][70:]}, inplace = True)\n",
    "            i+=1\n",
    "    while i < 80:\n",
    "            #indicator = i-41\n",
    "            df.rename(columns={ df.columns[i]: df.columns[i][49:]}, inplace = True)\n",
    "            i+=1\n",
    "\n",
    "df.rename(columns={ df.columns[80]: \"Studycountry\" }, inplace = True)\n",
    "df.rename(columns={ df.columns[81]: \"Studyfield\" }, inplace = True)\n",
    "df.rename(columns={ df.columns[82]: \"Part-time\" }, inplace = True)\n",
    "df.rename(columns={ df.columns[83]: \"Full-time\" }, inplace = True)\n",
    "df.rename(columns={ df.columns[84]: \"Self-employed\" }, inplace = True)\n",
    "df.rename(columns={ df.columns[85]: \"Not employed\" }, inplace = True)\n",
    "df.rename(columns={ df.columns[86]: \"Income\" }, inplace = True)\n",
    "df.rename(columns={ df.columns[87]: \"Origincountry\" }, inplace = True)\n",
    "df.rename(columns={ df.columns[88]: \"Gender\" }, inplace = True)\n",
    "df.rename(columns={ df.columns[89]: \"Age\" }, inplace = True)\n",
    "\n",
    "df.drop(df.columns[90:], axis = 1, inplace = True)"
   ]
  },
  {
   "cell_type": "code",
   "execution_count": 4,
   "metadata": {
    "ExecuteTime": {
     "end_time": "2020-09-01T16:37:52.119872Z",
     "start_time": "2020-09-01T16:37:52.105882Z"
    }
   },
   "outputs": [
    {
     "name": "stdout",
     "output_type": "stream",
     "text": [
      "23.0 889.5\n"
     ]
    }
   ],
   "source": [
    "# drop all unnecessary variables\n",
    "df.drop([\"Start language\", \"Date started\", \"Date last action\", \"Seed\"], axis = 1, inplace = True)\n",
    "\n",
    "# leave only full responses\n",
    "df.dropna(subset=['Date submitted'], inplace = True)\n",
    "\n",
    "# to assign new indeces\n",
    "df.reset_index(drop = True, inplace = True)\n",
    "\n",
    "#pandas take care of NaN\n",
    "print(round(df[\"Age\"].mean(),0), round(df[\"Income\"].mean(), 2))\n",
    "\n",
    "# take care of income - 0 values, 10000"
   ]
  },
  {
   "cell_type": "markdown",
   "metadata": {},
   "source": [
    "## Encoding"
   ]
  },
  {
   "cell_type": "code",
   "execution_count": 5,
   "metadata": {
    "ExecuteTime": {
     "end_time": "2020-09-01T16:37:53.491821Z",
     "start_time": "2020-09-01T16:37:53.450842Z"
    }
   },
   "outputs": [],
   "source": [
    "# option A - risky option, score 0\n",
    "# option B - safe option, score 1\n",
    "\n",
    "# Risk aversion dataset\n",
    "#df.iloc[:,3:13]\n",
    "\n",
    "# Loss aversion dataset\n",
    "#df.iloc[:,17:27]\n",
    "\n",
    "# Self-assessment\n",
    "#df.iloc[:,14:17]\n",
    "# original: from low to high willingness to take risks\n",
    "# reversed: from high to low willingness to take risks\n",
    "# the higher the number is, the more risk-averse a person is\n",
    "\n",
    "df.iloc[:,3:13] = df.iloc[:,3:13].replace({\"Option A\":0, \"Option B\":1})\n",
    "df.iloc[:,17:27] = df.iloc[:,17:27].replace({\"Option A\":0, \"Option B\":1})\n",
    "df.iloc[:,14:17] = df.iloc[:,14:17].replace({1:10, 2:9, 3:8, 4:7, 5:6, 6:5, 7:4, 8:3, 9:2, 10:1})\n",
    "\n",
    "# delete rows with non-consistent values\n",
    "#13, 15, 52,56,61\n",
    "df.drop([13, 15, 52, 66, 57, 63, 81], axis = 0, inplace = True)\n",
    "\n",
    "# to assign new indeces\n",
    "df.reset_index(drop = True, inplace = True)"
   ]
  },
  {
   "cell_type": "markdown",
   "metadata": {},
   "source": [
    "## Descriptive statistics"
   ]
  },
  {
   "cell_type": "code",
   "execution_count": 6,
   "metadata": {
    "ExecuteTime": {
     "end_time": "2020-09-01T16:37:54.955792Z",
     "start_time": "2020-09-01T16:37:54.669937Z"
    }
   },
   "outputs": [
    {
     "data": {
      "image/png": "[encoded data removed]",
      "text/plain": [
       "<Figure size 720x360 with 1 Axes>"
      ]
     },
     "metadata": {
      "needs_background": "light"
     },
     "output_type": "display_data"
    }
   ],
   "source": [
    "df.Studyfield.value_counts().plot(kind='bar', figsize=(10,5))\n",
    "plt.title(\"Study field\")\n",
    "plt.show()"
   ]
  },
  {
   "cell_type": "code",
   "execution_count": 7,
   "metadata": {
    "ExecuteTime": {
     "end_time": "2020-09-01T16:37:55.386018Z",
     "start_time": "2020-09-01T16:37:55.121151Z"
    }
   },
   "outputs": [
    {
     "data": {
      "text/plain": [
       "<matplotlib.axes._subplots.AxesSubplot at 0x1d3c33c3630>"
      ]
     },
     "execution_count": 7,
     "metadata": {},
     "output_type": "execute_result"
    },
    {
     "data": {
      "image/png": "[encoded data removed]",
      "text/plain": [
       "<Figure size 432x288 with 1 Axes>"
      ]
     },
     "metadata": {
      "needs_background": "light"
     },
     "output_type": "display_data"
    }
   ],
   "source": [
    "sns.distplot(df['In general'])\n",
    "sns.distplot(df['Career'])\n",
    "sns.distplot(df['Finances'])"
   ]
  },
  {
   "cell_type": "code",
   "execution_count": 8,
   "metadata": {
    "ExecuteTime": {
     "end_time": "2020-09-01T16:37:55.620583Z",
     "start_time": "2020-09-01T16:37:55.615585Z"
    }
   },
   "outputs": [],
   "source": [
    "def compare_2_groups(arr_1, arr_2, alpha, sample_size):\n",
    "    stat, p = stats.ttest_ind(arr_1, arr_2)\n",
    "    print(stat, p)\n",
    "    if p> alpha:\n",
    "        print('Same distributions (fail to reject H0)')\n",
    "    else:\n",
    "        print('Different distributions (reject H0)')"
   ]
  },
  {
   "cell_type": "code",
   "execution_count": 9,
   "metadata": {
    "ExecuteTime": {
     "end_time": "2020-09-01T16:37:56.104788Z",
     "start_time": "2020-09-01T16:37:56.099791Z"
    }
   },
   "outputs": [
    {
     "name": "stdout",
     "output_type": "stream",
     "text": [
      "-0.33357746654070647 0.739164274038371\n",
      "Same distributions (fail to reject H0)\n"
     ]
    }
   ],
   "source": [
    "sample_size = 44\n",
    "compare_2_groups(df['In general'], df['Career'], 0.05,sample_size)"
   ]
  },
  {
   "cell_type": "code",
   "execution_count": 10,
   "metadata": {
    "ExecuteTime": {
     "end_time": "2020-09-01T16:37:56.569111Z",
     "start_time": "2020-09-01T16:37:56.562115Z"
    },
    "scrolled": true
   },
   "outputs": [
    {
     "data": {
      "text/plain": [
       "5.190476190476191"
      ]
     },
     "execution_count": 10,
     "metadata": {},
     "output_type": "execute_result"
    }
   ],
   "source": [
    "df[\"In general\"].loc[df.Origincountry == 'Germany'].mean()"
   ]
  },
  {
   "cell_type": "code",
   "execution_count": 11,
   "metadata": {
    "ExecuteTime": {
     "end_time": "2020-09-01T16:37:57.012714Z",
     "start_time": "2020-09-01T16:37:57.005719Z"
    }
   },
   "outputs": [
    {
     "data": {
      "text/plain": [
       "4.55"
      ]
     },
     "execution_count": 11,
     "metadata": {},
     "output_type": "execute_result"
    }
   ],
   "source": [
    "df[\"In general\"].loc[df.Origincountry == 'Ukraine'].mean()"
   ]
  },
  {
   "cell_type": "code",
   "execution_count": 12,
   "metadata": {
    "ExecuteTime": {
     "end_time": "2020-09-01T16:37:57.431741Z",
     "start_time": "2020-09-01T16:37:57.423747Z"
    }
   },
   "outputs": [],
   "source": [
    "df[\"sum_risk\"] = df.iloc[:,3:13].sum(axis=1)\n",
    "df[\"sum_loss\"] = df.iloc[:,17:27].sum(axis=1)"
   ]
  },
  {
   "cell_type": "code",
   "execution_count": 13,
   "metadata": {
    "ExecuteTime": {
     "end_time": "2020-09-01T16:37:57.803830Z",
     "start_time": "2020-09-01T16:37:57.797834Z"
    }
   },
   "outputs": [
    {
     "data": {
      "text/plain": [
       "(Ttest_indResult(statistic=2.6464664360512096, pvalue=0.009011638912980159),)"
      ]
     },
     "execution_count": 13,
     "metadata": {},
     "output_type": "execute_result"
    }
   ],
   "source": [
    "stats.ttest_ind(df.sum_risk, df['In general'], equal_var = False),"
   ]
  },
  {
   "cell_type": "code",
   "execution_count": 14,
   "metadata": {
    "ExecuteTime": {
     "end_time": "2020-09-01T16:37:58.339569Z",
     "start_time": "2020-09-01T16:37:58.114698Z"
    }
   },
   "outputs": [
    {
     "data": {
      "image/png": "[encoded data removed]",
      "text/plain": [
       "<Figure size 432x288 with 1 Axes>"
      ]
     },
     "metadata": {
      "needs_background": "light"
     },
     "output_type": "display_data"
    }
   ],
   "source": [
    "sns.distplot(df.sum_loss, rug=True)\n",
    "plt.title(\"General loss aversion: experiment based\")\n",
    "plt.show()"
   ]
  },
  {
   "cell_type": "code",
   "execution_count": 15,
   "metadata": {
    "ExecuteTime": {
     "end_time": "2020-09-01T16:37:58.648468Z",
     "start_time": "2020-09-01T16:37:58.424579Z"
    }
   },
   "outputs": [
    {
     "data": {
      "image/png": "[encoded data removed]",
      "text/plain": [
       "<Figure size 432x288 with 1 Axes>"
      ]
     },
     "metadata": {
      "needs_background": "light"
     },
     "output_type": "display_data"
    }
   ],
   "source": [
    "sns.distplot(df.sum_risk, rug=True)\n",
    "plt.title(\"General risk aversion: experiment based\")\n",
    "plt.show()"
   ]
  },
  {
   "cell_type": "code",
   "execution_count": 16,
   "metadata": {
    "ExecuteTime": {
     "end_time": "2020-09-01T16:37:58.724560Z",
     "start_time": "2020-09-01T16:37:58.715565Z"
    }
   },
   "outputs": [],
   "source": [
    "# treatment of the income outlier\n",
    "#df[df[\"Income\"] == 10000]\n",
    "#new_income = df.drop([15], axis = 0)\n",
    "#new_income[\"Income\"].describe()\n",
    "\n",
    "df.loc[df['Income'] == 0, 'Income'] = float(\"nan\")\n",
    "\n",
    "#cov_matrix = np.cov(x, y)\n",
    "#np.corrcoef(x,y)"
   ]
  },
  {
   "cell_type": "code",
   "execution_count": 17,
   "metadata": {
    "ExecuteTime": {
     "end_time": "2020-09-01T16:37:58.938214Z",
     "start_time": "2020-09-01T16:37:58.933216Z"
    }
   },
   "outputs": [],
   "source": [
    "def calculate_pvalues(df):\n",
    "    dfcols = pd.DataFrame(columns=df.columns)\n",
    "    pvalues = dfcols.transpose().join(dfcols, how='outer')\n",
    "    for r in df.columns:\n",
    "        for c in df.columns:\n",
    "            pvalues[r][c] = round(pearsonr(df[r], df[c])[1], 4)\n",
    "    return pvalues"
   ]
  },
  {
   "cell_type": "code",
   "execution_count": 18,
   "metadata": {
    "ExecuteTime": {
     "end_time": "2020-09-01T16:37:59.315470Z",
     "start_time": "2020-09-01T16:37:59.309491Z"
    }
   },
   "outputs": [],
   "source": [
    "new_df = df[['sum_risk', 'sum_loss', 'In general']]"
   ]
  },
  {
   "cell_type": "code",
   "execution_count": 19,
   "metadata": {
    "ExecuteTime": {
     "end_time": "2020-09-01T16:37:59.616897Z",
     "start_time": "2020-09-01T16:37:59.547917Z"
    }
   },
   "outputs": [
    {
     "data": {
      "text/html": [
       "<div>\n",
       "<style scoped>\n",
       "    .dataframe tbody tr th:only-of-type {\n",
       "        vertical-align: middle;\n",
       "    }\n",
       "\n",
       "    .dataframe tbody tr th {\n",
       "        vertical-align: top;\n",
       "    }\n",
       "\n",
       "    .dataframe thead th {\n",
       "        text-align: right;\n",
       "    }\n",
       "</style>\n",
       "<table border=\"1\" class=\"dataframe\">\n",
       "  <thead>\n",
       "    <tr style=\"text-align: right;\">\n",
       "      <th></th>\n",
       "      <th>sum_risk</th>\n",
       "      <th>sum_loss</th>\n",
       "      <th>In general</th>\n",
       "    </tr>\n",
       "  </thead>\n",
       "  <tbody>\n",
       "    <tr>\n",
       "      <th>sum_risk</th>\n",
       "      <td>1.0***</td>\n",
       "      <td>0.28**</td>\n",
       "      <td>0.12</td>\n",
       "    </tr>\n",
       "    <tr>\n",
       "      <th>sum_loss</th>\n",
       "      <td>0.28**</td>\n",
       "      <td>1.0***</td>\n",
       "      <td>0.11</td>\n",
       "    </tr>\n",
       "    <tr>\n",
       "      <th>In general</th>\n",
       "      <td>0.12</td>\n",
       "      <td>0.11</td>\n",
       "      <td>1.0***</td>\n",
       "    </tr>\n",
       "  </tbody>\n",
       "</table>\n",
       "</div>"
      ],
      "text/plain": [
       "           sum_risk sum_loss In general\n",
       "sum_risk     1.0***   0.28**       0.12\n",
       "sum_loss     0.28**   1.0***       0.11\n",
       "In general     0.12     0.11     1.0***"
      ]
     },
     "execution_count": 19,
     "metadata": {},
     "output_type": "execute_result"
    }
   ],
   "source": [
    "rho = new_df.corr()\n",
    "rho = rho.round(2)\n",
    "pval = calculate_pvalues(new_df) # toto_tico's answer\n",
    "# create three masks\n",
    "r1 = rho.applymap(lambda x: '{}*'.format(x))\n",
    "r2 = rho.applymap(lambda x: '{}**'.format(x))\n",
    "r3 = rho.applymap(lambda x: '{}***'.format(x))\n",
    "# apply them where appropriate\n",
    "rho = rho.mask(pval<=0.1,r1)\n",
    "rho = rho.mask(pval<=0.05,r2)\n",
    "rho = rho.mask(pval<=0.01,r3)\n",
    "rho"
   ]
  },
  {
   "cell_type": "code",
   "execution_count": 20,
   "metadata": {
    "ExecuteTime": {
     "end_time": "2020-09-01T16:38:00.009168Z",
     "start_time": "2020-09-01T16:37:59.731345Z"
    },
    "scrolled": true
   },
   "outputs": [
    {
     "data": {
      "text/html": [
       "<div>\n",
       "<style scoped>\n",
       "    .dataframe tbody tr th:only-of-type {\n",
       "        vertical-align: middle;\n",
       "    }\n",
       "\n",
       "    .dataframe tbody tr th {\n",
       "        vertical-align: top;\n",
       "    }\n",
       "\n",
       "    .dataframe thead th {\n",
       "        text-align: right;\n",
       "    }\n",
       "</style>\n",
       "<table border=\"1\" class=\"dataframe\">\n",
       "  <thead>\n",
       "    <tr style=\"text-align: right;\">\n",
       "      <th></th>\n",
       "      <th>sum_risk</th>\n",
       "      <th>sum_loss</th>\n",
       "      <th>In general</th>\n",
       "    </tr>\n",
       "  </thead>\n",
       "  <tbody>\n",
       "    <tr>\n",
       "      <th>sum_risk</th>\n",
       "      <td>1.000000</td>\n",
       "      <td>0.284181</td>\n",
       "      <td>0.123767</td>\n",
       "    </tr>\n",
       "    <tr>\n",
       "      <th>sum_loss</th>\n",
       "      <td>0.284181</td>\n",
       "      <td>1.000000</td>\n",
       "      <td>0.107285</td>\n",
       "    </tr>\n",
       "    <tr>\n",
       "      <th>In general</th>\n",
       "      <td>0.123767</td>\n",
       "      <td>0.107285</td>\n",
       "      <td>1.000000</td>\n",
       "    </tr>\n",
       "  </tbody>\n",
       "</table>\n",
       "</div>"
      ],
      "text/plain": [
       "            sum_risk  sum_loss  In general\n",
       "sum_risk    1.000000  0.284181    0.123767\n",
       "sum_loss    0.284181  1.000000    0.107285\n",
       "In general  0.123767  0.107285    1.000000"
      ]
     },
     "execution_count": 20,
     "metadata": {},
     "output_type": "execute_result"
    },
    {
     "data": {
      "image/png": "[encoded data removed]",
      "text/plain": [
       "<Figure size 432x288 with 2 Axes>"
      ]
     },
     "metadata": {
      "needs_background": "light"
     },
     "output_type": "display_data"
    }
   ],
   "source": [
    "# Finding the relations between the variables.\n",
    "plt.figure(figsize=(6,4))\n",
    "c= new_df.corr()\n",
    "sns.heatmap(c,cmap=\"Blues\",annot=True)\n",
    "c"
   ]
  },
  {
   "cell_type": "code",
   "execution_count": 21,
   "metadata": {
    "ExecuteTime": {
     "end_time": "2020-09-01T16:38:00.240116Z",
     "start_time": "2020-09-01T16:38:00.234119Z"
    }
   },
   "outputs": [
    {
     "data": {
      "text/plain": [
       "792.7435897435897"
      ]
     },
     "execution_count": 21,
     "metadata": {},
     "output_type": "execute_result"
    }
   ],
   "source": [
    "df.Income.mean()"
   ]
  },
  {
   "cell_type": "code",
   "execution_count": 22,
   "metadata": {
    "ExecuteTime": {
     "end_time": "2020-09-01T16:38:00.728732Z",
     "start_time": "2020-09-01T16:38:00.708745Z"
    },
    "scrolled": false
   },
   "outputs": [
    {
     "name": "stdout",
     "output_type": "stream",
     "text": [
      "23.0    16\n",
      "22.0    12\n",
      "21.0     7\n",
      "25.0     7\n",
      "24.0     5\n",
      "27.0     4\n",
      "26.0     3\n",
      "28.0     3\n",
      "20.0     3\n",
      "30.0     2\n",
      "19.0     2\n",
      "18.0     2\n",
      "29.0     1\n",
      "Name: Age, dtype: int64\n",
      "\n",
      "Male      39\n",
      "Female    34\n",
      "Name: Gender, dtype: int64\n",
      "\n",
      "Germany               36\n",
      "Ukraine               12\n",
      "China                  6\n",
      "Slovakia               3\n",
      "Belgium                2\n",
      "Netherlands            2\n",
      "France                 2\n",
      "Turkey                 2\n",
      "Russian Federation     2\n",
      "Croatia                1\n",
      "Denmark                1\n",
      "Finland                1\n",
      "Hungary                1\n",
      "Switzerland            1\n",
      "Portugal               1\n",
      "Australia              1\n",
      "Italy                  1\n",
      "Belarus                1\n",
      "Name: Studycountry, dtype: int64\n",
      "\n",
      "Germany                                                     21\n",
      "Ukraine                                                     20\n",
      "Turkey                                                       5\n",
      "the United Kingdom of Great Britain and Northern Ireland     2\n",
      "Belgium                                                      2\n",
      "Netherlands                                                  2\n",
      "France                                                       2\n",
      "Syrian Arab Republic                                         2\n",
      "Russian Federation                                           2\n",
      "Hungary                                                      2\n",
      "Georgia                                                      1\n",
      "Guatemala                                                    1\n",
      "United States of America                                     1\n",
      "China                                                        1\n",
      "Austria                                                      1\n",
      "Brazil                                                       1\n",
      "Belarus                                                      1\n",
      "United Republic of Tanzania                                  1\n",
      "Argentina                                                    1\n",
      "Indonesia                                                    1\n",
      "Australia                                                    1\n",
      "Finland                                                      1\n",
      "Croatia                                                      1\n",
      "Portugal                                                     1\n",
      "Canada                                                       1\n",
      "Name: Origincountry, dtype: int64\n",
      "\n",
      "Business administration                27\n",
      "Economics                              17\n",
      "Engineering                            15\n",
      "IT                                      5\n",
      "Education                               3\n",
      "Marketing                               2\n",
      "Chemistry                               1\n",
      "Anthropology                            1\n",
      "Physical Therapy                        1\n",
      "Art                                     1\n",
      "Aeronautics and Aviation Science        1\n",
      "Public Relations and Administration     1\n",
      "Journalism and Mass Communication       1\n",
      "Name: Studyfield, dtype: int64\n",
      "\n",
      "1000.0    6\n",
      "1200.0    4\n",
      "200.0     3\n",
      "750.0     2\n",
      "1100.0    2\n",
      "470.0     2\n",
      "700.0     2\n",
      "800.0     1\n",
      "1500.0    1\n",
      "414.0     1\n",
      "670.0     1\n",
      "110.0     1\n",
      "50.0      1\n",
      "350.0     1\n",
      "400.0     1\n",
      "825.0     1\n",
      "2500.0    1\n",
      "100.0     1\n",
      "650.0     1\n",
      "1080.0    1\n",
      "2000.0    1\n",
      "250.0     1\n",
      "228.0     1\n",
      "600.0     1\n",
      "950.0     1\n",
      "Name: Income, dtype: int64\n"
     ]
    }
   ],
   "source": [
    "print(df[\"Age\"].value_counts(), df[\"Gender\"].value_counts(), df[\"Studycountry\"].value_counts(), df[\"Origincountry\"].value_counts(), df[\"Studyfield\"].value_counts(), df[\"Income\"].value_counts(), sep=\"\\n\\n\")"
   ]
  },
  {
   "cell_type": "code",
   "execution_count": 23,
   "metadata": {
    "ExecuteTime": {
     "end_time": "2020-09-01T16:38:00.928641Z",
     "start_time": "2020-09-01T16:38:00.923640Z"
    }
   },
   "outputs": [
    {
     "data": {
      "text/plain": [
       "(76, 88)"
      ]
     },
     "execution_count": 23,
     "metadata": {},
     "output_type": "execute_result"
    }
   ],
   "source": [
    "df.shape"
   ]
  },
  {
   "cell_type": "markdown",
   "metadata": {},
   "source": [
    "## Entrepreneurial propensity"
   ]
  },
  {
   "cell_type": "markdown",
   "metadata": {},
   "source": [
    "### Factor analysis"
   ]
  },
  {
   "cell_type": "code",
   "execution_count": 24,
   "metadata": {
    "ExecuteTime": {
     "end_time": "2020-09-01T16:38:02.412979Z",
     "start_time": "2020-09-01T16:38:02.391989Z"
    }
   },
   "outputs": [],
   "source": [
    "df.iloc[:,49:61] = df.iloc[:,49:61].replace({\"Much worse\": 1, \"A little worse\":2, \"About the same\":3, \"A little better\": 4, \"Much better\": 5})"
   ]
  },
  {
   "cell_type": "code",
   "execution_count": 25,
   "metadata": {
    "ExecuteTime": {
     "end_time": "2020-09-01T16:38:02.810800Z",
     "start_time": "2020-09-01T16:38:02.784814Z"
    }
   },
   "outputs": [
    {
     "data": {
      "text/plain": [
       "(436.24892665529603, 2.438301975614091e-56)"
      ]
     },
     "execution_count": 25,
     "metadata": {},
     "output_type": "execute_result"
    }
   ],
   "source": [
    "chi_square_value,p_value=calculate_bartlett_sphericity(df.iloc[:,49:61])\n",
    "chi_square_value, p_value"
   ]
  },
  {
   "cell_type": "markdown",
   "metadata": {},
   "source": [
    "https://www.datacamp.com/community/tutorials/introduction-factor-analysis"
   ]
  },
  {
   "cell_type": "code",
   "execution_count": 26,
   "metadata": {
    "ExecuteTime": {
     "end_time": "2020-09-01T16:38:03.722932Z",
     "start_time": "2020-09-01T16:38:03.699948Z"
    }
   },
   "outputs": [
    {
     "data": {
      "text/plain": [
       "0.7873768622469755"
      ]
     },
     "execution_count": 26,
     "metadata": {},
     "output_type": "execute_result"
    }
   ],
   "source": [
    "kmo_all,kmo_model = calculate_kmo(df.iloc[:,49:61])\n",
    "kmo_model"
   ]
  },
  {
   "cell_type": "code",
   "execution_count": 27,
   "metadata": {
    "ExecuteTime": {
     "end_time": "2020-09-01T16:38:04.203661Z",
     "start_time": "2020-09-01T16:38:04.147710Z"
    }
   },
   "outputs": [
    {
     "data": {
      "text/plain": [
       "array([4.9777807 , 1.57091271, 1.13641508, 0.98403103, 0.92391632,\n",
       "       0.52375062, 0.49994609, 0.48140131, 0.29606307, 0.25084833,\n",
       "       0.201555  , 0.15337975])"
      ]
     },
     "execution_count": 27,
     "metadata": {},
     "output_type": "execute_result"
    }
   ],
   "source": [
    "factor_df = df.iloc[:,49:61]\n",
    "\n",
    "fa = FactorAnalyzer()\n",
    "fa.set_params(n_factors=12, rotation=None)\n",
    "fa.fit(factor_df)\n",
    "loadings = fa.loadings_\n",
    "\n",
    "ev, v = fa.get_eigenvalues()\n",
    "ev"
   ]
  },
  {
   "cell_type": "code",
   "execution_count": 28,
   "metadata": {
    "ExecuteTime": {
     "end_time": "2020-09-01T16:38:04.578951Z",
     "start_time": "2020-09-01T16:38:04.413045Z"
    }
   },
   "outputs": [
    {
     "data": {
      "image/png": "[encoded data removed]",
      "text/plain": [
       "<Figure size 432x288 with 1 Axes>"
      ]
     },
     "metadata": {
      "needs_background": "light"
     },
     "output_type": "display_data"
    }
   ],
   "source": [
    "# Create scree plot using matplotlib\n",
    "plt.scatter(range(1,factor_df.shape[1]+1),ev)\n",
    "plt.plot(range(1,factor_df.shape[1]+1),ev)\n",
    "plt.title('Scree Plot')\n",
    "plt.xlabel('Factors')\n",
    "plt.ylabel('Eigenvalue')\n",
    "plt.grid()\n",
    "plt.show()"
   ]
  },
  {
   "cell_type": "code",
   "execution_count": 29,
   "metadata": {
    "ExecuteTime": {
     "end_time": "2020-09-01T16:38:05.341318Z",
     "start_time": "2020-09-01T16:38:05.252529Z"
    }
   },
   "outputs": [],
   "source": [
    "fa = FactorAnalyzer()\n",
    "fa.set_params(n_factors = 3, rotation = \"varimax\")\n",
    "fa.fit(factor_df)\n",
    "loadings = fa.loadings_"
   ]
  },
  {
   "cell_type": "code",
   "execution_count": 30,
   "metadata": {
    "ExecuteTime": {
     "end_time": "2020-09-01T16:38:05.506805Z",
     "start_time": "2020-09-01T16:38:05.494813Z"
    },
    "scrolled": true
   },
   "outputs": [
    {
     "data": {
      "text/html": [
       "<div>\n",
       "<style scoped>\n",
       "    .dataframe tbody tr th:only-of-type {\n",
       "        vertical-align: middle;\n",
       "    }\n",
       "\n",
       "    .dataframe tbody tr th {\n",
       "        vertical-align: top;\n",
       "    }\n",
       "\n",
       "    .dataframe thead th {\n",
       "        text-align: right;\n",
       "    }\n",
       "</style>\n",
       "<table border=\"1\" class=\"dataframe\">\n",
       "  <thead>\n",
       "    <tr style=\"text-align: right;\">\n",
       "      <th></th>\n",
       "      <th>0</th>\n",
       "      <th>1</th>\n",
       "      <th>2</th>\n",
       "    </tr>\n",
       "  </thead>\n",
       "  <tbody>\n",
       "    <tr>\n",
       "      <th>0</th>\n",
       "      <td>0.273778</td>\n",
       "      <td>0.214912</td>\n",
       "      <td>0.489348</td>\n",
       "    </tr>\n",
       "    <tr>\n",
       "      <th>1</th>\n",
       "      <td>0.003935</td>\n",
       "      <td>-0.015722</td>\n",
       "      <td>0.125524</td>\n",
       "    </tr>\n",
       "    <tr>\n",
       "      <th>2</th>\n",
       "      <td>0.182399</td>\n",
       "      <td>0.771426</td>\n",
       "      <td>0.044491</td>\n",
       "    </tr>\n",
       "    <tr>\n",
       "      <th>3</th>\n",
       "      <td>0.250682</td>\n",
       "      <td>-0.047392</td>\n",
       "      <td>0.467587</td>\n",
       "    </tr>\n",
       "    <tr>\n",
       "      <th>4</th>\n",
       "      <td>0.262388</td>\n",
       "      <td>0.203462</td>\n",
       "      <td>0.874899</td>\n",
       "    </tr>\n",
       "  </tbody>\n",
       "</table>\n",
       "</div>"
      ],
      "text/plain": [
       "          0         1         2\n",
       "0  0.273778  0.214912  0.489348\n",
       "1  0.003935 -0.015722  0.125524\n",
       "2  0.182399  0.771426  0.044491\n",
       "3  0.250682 -0.047392  0.467587\n",
       "4  0.262388  0.203462  0.874899"
      ]
     },
     "execution_count": 30,
     "metadata": {},
     "output_type": "execute_result"
    }
   ],
   "source": [
    "load = pd.DataFrame.from_records(loadings)\n",
    "load.head()"
   ]
  },
  {
   "cell_type": "code",
   "execution_count": 31,
   "metadata": {
    "ExecuteTime": {
     "end_time": "2020-09-01T16:38:05.896349Z",
     "start_time": "2020-09-01T16:38:05.890353Z"
    }
   },
   "outputs": [
    {
     "data": {
      "text/plain": [
       "(array([2.71028061, 2.05655374, 1.78743164]),\n",
       " array([0.22585672, 0.17137948, 0.14895264]),\n",
       " array([0.22585672, 0.3972362 , 0.54618883]))"
      ]
     },
     "execution_count": 31,
     "metadata": {},
     "output_type": "execute_result"
    }
   ],
   "source": [
    "fa.get_factor_variance()"
   ]
  },
  {
   "cell_type": "code",
   "execution_count": 32,
   "metadata": {
    "ExecuteTime": {
     "end_time": "2020-09-01T16:38:06.186677Z",
     "start_time": "2020-09-01T16:38:06.168687Z"
    }
   },
   "outputs": [],
   "source": [
    "load.loc[abs(load.loc[:,0]) > 0.55, 'business_talent'] = 'business_talent'\n",
    "load.loc[abs(load.loc[:,1]) > 0.55, 'creativity'] = 'creativity'\n",
    "load.loc[abs(load.loc[:,2]) > 0.55, 'leadership'] = 'leadership'"
   ]
  },
  {
   "cell_type": "code",
   "execution_count": 33,
   "metadata": {
    "ExecuteTime": {
     "end_time": "2020-09-01T16:38:06.405977Z",
     "start_time": "2020-09-01T16:38:06.399981Z"
    }
   },
   "outputs": [
    {
     "data": {
      "text/plain": [
       "array([0.36060284, 0.01601887, 0.63034733, 0.28372522, 0.87569177,\n",
       "       0.35169916, 0.60941565, 0.55436323, 0.92860982, 0.60863634,\n",
       "       0.75358112, 0.58157463])"
      ]
     },
     "execution_count": 33,
     "metadata": {},
     "output_type": "execute_result"
    }
   ],
   "source": [
    "fa.get_communalities()"
   ]
  },
  {
   "cell_type": "code",
   "execution_count": 34,
   "metadata": {
    "ExecuteTime": {
     "end_time": "2020-09-01T16:38:06.891816Z",
     "start_time": "2020-09-01T16:38:06.876826Z"
    },
    "scrolled": true
   },
   "outputs": [
    {
     "data": {
      "text/html": [
       "<div>\n",
       "<style scoped>\n",
       "    .dataframe tbody tr th:only-of-type {\n",
       "        vertical-align: middle;\n",
       "    }\n",
       "\n",
       "    .dataframe tbody tr th {\n",
       "        vertical-align: top;\n",
       "    }\n",
       "\n",
       "    .dataframe thead th {\n",
       "        text-align: right;\n",
       "    }\n",
       "</style>\n",
       "<table border=\"1\" class=\"dataframe\">\n",
       "  <thead>\n",
       "    <tr style=\"text-align: right;\">\n",
       "      <th></th>\n",
       "      <th>0</th>\n",
       "      <th>1</th>\n",
       "      <th>2</th>\n",
       "      <th>business_talent</th>\n",
       "      <th>creativity</th>\n",
       "      <th>leadership</th>\n",
       "    </tr>\n",
       "  </thead>\n",
       "  <tbody>\n",
       "    <tr>\n",
       "      <th>0</th>\n",
       "      <td>0.273778</td>\n",
       "      <td>0.214912</td>\n",
       "      <td>0.489348</td>\n",
       "      <td>NaN</td>\n",
       "      <td>NaN</td>\n",
       "      <td>NaN</td>\n",
       "    </tr>\n",
       "    <tr>\n",
       "      <th>1</th>\n",
       "      <td>0.003935</td>\n",
       "      <td>-0.015722</td>\n",
       "      <td>0.125524</td>\n",
       "      <td>NaN</td>\n",
       "      <td>NaN</td>\n",
       "      <td>NaN</td>\n",
       "    </tr>\n",
       "    <tr>\n",
       "      <th>2</th>\n",
       "      <td>0.182399</td>\n",
       "      <td>0.771426</td>\n",
       "      <td>0.044491</td>\n",
       "      <td>NaN</td>\n",
       "      <td>creativity</td>\n",
       "      <td>NaN</td>\n",
       "    </tr>\n",
       "    <tr>\n",
       "      <th>3</th>\n",
       "      <td>0.250682</td>\n",
       "      <td>-0.047392</td>\n",
       "      <td>0.467587</td>\n",
       "      <td>NaN</td>\n",
       "      <td>NaN</td>\n",
       "      <td>NaN</td>\n",
       "    </tr>\n",
       "    <tr>\n",
       "      <th>4</th>\n",
       "      <td>0.262388</td>\n",
       "      <td>0.203462</td>\n",
       "      <td>0.874899</td>\n",
       "      <td>NaN</td>\n",
       "      <td>NaN</td>\n",
       "      <td>leadership</td>\n",
       "    </tr>\n",
       "    <tr>\n",
       "      <th>5</th>\n",
       "      <td>0.110849</td>\n",
       "      <td>0.151635</td>\n",
       "      <td>0.562511</td>\n",
       "      <td>NaN</td>\n",
       "      <td>NaN</td>\n",
       "      <td>leadership</td>\n",
       "    </tr>\n",
       "    <tr>\n",
       "      <th>6</th>\n",
       "      <td>0.697421</td>\n",
       "      <td>0.316903</td>\n",
       "      <td>0.150306</td>\n",
       "      <td>business_talent</td>\n",
       "      <td>NaN</td>\n",
       "      <td>NaN</td>\n",
       "    </tr>\n",
       "    <tr>\n",
       "      <th>7</th>\n",
       "      <td>0.499075</td>\n",
       "      <td>0.541082</td>\n",
       "      <td>0.111884</td>\n",
       "      <td>NaN</td>\n",
       "      <td>NaN</td>\n",
       "      <td>NaN</td>\n",
       "    </tr>\n",
       "    <tr>\n",
       "      <th>8</th>\n",
       "      <td>0.304817</td>\n",
       "      <td>0.907444</td>\n",
       "      <td>0.110640</td>\n",
       "      <td>NaN</td>\n",
       "      <td>creativity</td>\n",
       "      <td>NaN</td>\n",
       "    </tr>\n",
       "    <tr>\n",
       "      <th>9</th>\n",
       "      <td>0.711786</td>\n",
       "      <td>0.272312</td>\n",
       "      <td>0.166861</td>\n",
       "      <td>business_talent</td>\n",
       "      <td>NaN</td>\n",
       "      <td>NaN</td>\n",
       "    </tr>\n",
       "    <tr>\n",
       "      <th>10</th>\n",
       "      <td>0.821272</td>\n",
       "      <td>0.128737</td>\n",
       "      <td>0.250041</td>\n",
       "      <td>business_talent</td>\n",
       "      <td>NaN</td>\n",
       "      <td>NaN</td>\n",
       "    </tr>\n",
       "    <tr>\n",
       "      <th>11</th>\n",
       "      <td>0.669741</td>\n",
       "      <td>0.202498</td>\n",
       "      <td>0.303342</td>\n",
       "      <td>business_talent</td>\n",
       "      <td>NaN</td>\n",
       "      <td>NaN</td>\n",
       "    </tr>\n",
       "  </tbody>\n",
       "</table>\n",
       "</div>"
      ],
      "text/plain": [
       "           0         1         2  business_talent  creativity  leadership\n",
       "0   0.273778  0.214912  0.489348              NaN         NaN         NaN\n",
       "1   0.003935 -0.015722  0.125524              NaN         NaN         NaN\n",
       "2   0.182399  0.771426  0.044491              NaN  creativity         NaN\n",
       "3   0.250682 -0.047392  0.467587              NaN         NaN         NaN\n",
       "4   0.262388  0.203462  0.874899              NaN         NaN  leadership\n",
       "5   0.110849  0.151635  0.562511              NaN         NaN  leadership\n",
       "6   0.697421  0.316903  0.150306  business_talent         NaN         NaN\n",
       "7   0.499075  0.541082  0.111884              NaN         NaN         NaN\n",
       "8   0.304817  0.907444  0.110640              NaN  creativity         NaN\n",
       "9   0.711786  0.272312  0.166861  business_talent         NaN         NaN\n",
       "10  0.821272  0.128737  0.250041  business_talent         NaN         NaN\n",
       "11  0.669741  0.202498  0.303342  business_talent         NaN         NaN"
      ]
     },
     "execution_count": 34,
     "metadata": {},
     "output_type": "execute_result"
    }
   ],
   "source": [
    "load"
   ]
  },
  {
   "cell_type": "markdown",
   "metadata": {},
   "source": [
    "0. solve problems?\n",
    "1. manage money?\n",
    "2. be creative? \n",
    "3. get people to agree with you?\n",
    "4. be a leader? \n",
    "5. make decisions?\n",
    "6. successfully identify new business opportunitites?\n",
    "7. create new products?\n",
    "8. think creatively?\n",
    "9. commericalize an idea or new development?\n",
    "10. raise funds for a new business?\n",
    "11. sell new product or service?"
   ]
  },
  {
   "cell_type": "code",
   "execution_count": 35,
   "metadata": {
    "ExecuteTime": {
     "end_time": "2020-09-01T16:38:07.784100Z",
     "start_time": "2020-09-01T16:38:07.632189Z"
    }
   },
   "outputs": [
    {
     "data": {
      "image/png": "[encoded data removed]",
      "text/plain": [
       "<Figure size 432x288 with 1 Axes>"
      ]
     },
     "metadata": {
      "needs_background": "light"
     },
     "output_type": "display_data"
    }
   ],
   "source": [
    "plt.scatter(load[0], load[1], marker='o');\n",
    "#plt.ylim(-1, 1);\n",
    "#plt.xlim(-1, 1);"
   ]
  },
  {
   "cell_type": "markdown",
   "metadata": {},
   "source": [
    "https://datasciencetips.com/use-factor-analysis-to-better-understand-your-data/"
   ]
  },
  {
   "cell_type": "markdown",
   "metadata": {},
   "source": [
    "A factor is a latent variable which describes the association among the number of observed variables. The maximum number of factors are equal to a number of observed variables. Every factor explains a certain variance in observed variables. The factors with the lowest amount of variance were dropped. Factors are also known as latent variables or hidden variables or unobserved variables or Hypothetical variables."
   ]
  },
  {
   "cell_type": "markdown",
   "metadata": {},
   "source": [
    "Factor loadings – The factor loading is a matrix which shows the relationship of each variable to the underlying factor. It shows the correlation coefficient for observed variable and factor and variance explained by the observed variables"
   ]
  },
  {
   "cell_type": "markdown",
   "metadata": {},
   "source": [
    "Eigenvalues – represent variance explained each factor from the total variance. It is also known as characteristic roots."
   ]
  },
  {
   "cell_type": "markdown",
   "metadata": {},
   "source": [
    "Communalities – are the sum of the squared loadings for each variable. It represents the common variance. It ranges from 0-1 and value close to 1 represents more variance."
   ]
  },
  {
   "cell_type": "markdown",
   "metadata": {},
   "source": [
    "Factor Rotation is a tool for better interpretation of factor analysis. Rotation can be orthogonal or oblique. It re-distributed the commonalities with a clear pattern of loadings."
   ]
  },
  {
   "cell_type": "code",
   "execution_count": 36,
   "metadata": {
    "ExecuteTime": {
     "end_time": "2020-09-01T16:38:09.662230Z",
     "start_time": "2020-09-01T16:38:09.638247Z"
    }
   },
   "outputs": [
    {
     "name": "stdout",
     "output_type": "stream",
     "text": [
      "(0.8719773137406548, array([0.798, 0.919])) (0.866227525064214, array([0.809, 0.909])) (0.6789114938342262, array([0.493, 0.797]))\n"
     ]
    }
   ],
   "source": [
    "#Create the factors\n",
    "factor1 = df[['[be creative?]', '[think creatively?]']] #creativity\n",
    "factor2 = df[['[commericalize an idea or new development?]',\n",
    "       '[raise funds for a new business?]',\n",
    "       '[sell new product or service?]', '[successfully identify new business opportunitites?]']] #business\n",
    "factor3 = df[['[be a leader?]', '[make decisions?]']] #leadership\n",
    "#factor4 = df[['[solve problems?]']]\n",
    "\n",
    "#Get cronbach alpha\n",
    "factor1_alpha = pg.cronbach_alpha(factor1)\n",
    "factor2_alpha = pg.cronbach_alpha(factor2)\n",
    "factor3_alpha = pg.cronbach_alpha(factor3)\n",
    "print(factor1_alpha, factor2_alpha, factor3_alpha)"
   ]
  },
  {
   "cell_type": "markdown",
   "metadata": {},
   "source": [
    "The alpha coefficient for the four items is .84 and .81, suggesting that the items have relatively high internal consistency.  (Note that a reliability coefficient of .70 or higher is considered “acceptable” in most social science research situations.)"
   ]
  },
  {
   "cell_type": "markdown",
   "metadata": {},
   "source": [
    "### Adding new factors to the dataframe"
   ]
  },
  {
   "cell_type": "code",
   "execution_count": 37,
   "metadata": {
    "ExecuteTime": {
     "end_time": "2020-09-01T16:38:10.636797Z",
     "start_time": "2020-09-01T16:38:10.623804Z"
    }
   },
   "outputs": [],
   "source": [
    "x = fa.transform(factor_df.values)\n",
    "x = pd.DataFrame(x)\n",
    "\n",
    "df = pd.concat([df,x], axis = 1, sort = False)\n",
    "df.rename(columns = {0:'business_talent', 1:'creativity', 2:'leadership'}, inplace = True)\n",
    "\n",
    "#new_row = pd.Series(data = {'[solve problems?]':3, '[manage money?]':3, '[be creative?]':3,\n",
    "       #'[get people to agree with you?]':3, '[be a leader?]':3,\n",
    "       #'[make decisions?]':3,\n",
    "       #'[successfully identify new business opportunitites?]':3,\n",
    "       #'[create new products?]':3, '[think creatively?]':3,\n",
    "       #'[commericalize an idea or new development?]':3,\n",
    "       #'[raise funds for a new business?]':3, '[sell new product or service?]':3}, name = 'test')\n",
    "#factor_df = factor_df.append(new_row, ignore_index=True) "
   ]
  },
  {
   "cell_type": "code",
   "execution_count": 38,
   "metadata": {
    "ExecuteTime": {
     "end_time": "2020-09-01T16:38:11.059356Z",
     "start_time": "2020-09-01T16:38:11.052342Z"
    }
   },
   "outputs": [
    {
     "data": {
      "text/plain": [
       "(0.10676167962157289, 0.01566959359806616, 0.1687945866404686)"
      ]
     },
     "execution_count": 38,
     "metadata": {},
     "output_type": "execute_result"
    }
   ],
   "source": [
    "df.creativity.median(), df.business_talent.median(), df.leadership.median()"
   ]
  },
  {
   "cell_type": "code",
   "execution_count": 39,
   "metadata": {
    "ExecuteTime": {
     "end_time": "2020-09-01T16:38:11.507834Z",
     "start_time": "2020-09-01T16:38:11.246982Z"
    }
   },
   "outputs": [
    {
     "data": {
      "text/html": [
       "<div>\n",
       "<style scoped>\n",
       "    .dataframe tbody tr th:only-of-type {\n",
       "        vertical-align: middle;\n",
       "    }\n",
       "\n",
       "    .dataframe tbody tr th {\n",
       "        vertical-align: top;\n",
       "    }\n",
       "\n",
       "    .dataframe thead th {\n",
       "        text-align: right;\n",
       "    }\n",
       "</style>\n",
       "<table border=\"1\" class=\"dataframe\">\n",
       "  <thead>\n",
       "    <tr style=\"text-align: right;\">\n",
       "      <th></th>\n",
       "      <th>creativity</th>\n",
       "      <th>business_talent</th>\n",
       "      <th>leadership</th>\n",
       "    </tr>\n",
       "  </thead>\n",
       "  <tbody>\n",
       "    <tr>\n",
       "      <th>creativity</th>\n",
       "      <td>1.000000</td>\n",
       "      <td>0.070524</td>\n",
       "      <td>-0.011272</td>\n",
       "    </tr>\n",
       "    <tr>\n",
       "      <th>business_talent</th>\n",
       "      <td>0.070524</td>\n",
       "      <td>1.000000</td>\n",
       "      <td>0.083308</td>\n",
       "    </tr>\n",
       "    <tr>\n",
       "      <th>leadership</th>\n",
       "      <td>-0.011272</td>\n",
       "      <td>0.083308</td>\n",
       "      <td>1.000000</td>\n",
       "    </tr>\n",
       "  </tbody>\n",
       "</table>\n",
       "</div>"
      ],
      "text/plain": [
       "                 creativity  business_talent  leadership\n",
       "creativity         1.000000         0.070524   -0.011272\n",
       "business_talent    0.070524         1.000000    0.083308\n",
       "leadership        -0.011272         0.083308    1.000000"
      ]
     },
     "execution_count": 39,
     "metadata": {},
     "output_type": "execute_result"
    },
    {
     "data": {
      "image/png": "[encoded data removed]",
      "text/plain": [
       "<Figure size 432x288 with 2 Axes>"
      ]
     },
     "metadata": {
      "needs_background": "light"
     },
     "output_type": "display_data"
    }
   ],
   "source": [
    "# Finding the relations between the variables.\n",
    "plt.figure(figsize=(6,4))\n",
    "c= df[['creativity', 'business_talent', 'leadership']].corr()\n",
    "sns.heatmap(c,cmap=\"Blues\",annot=True)\n",
    "c"
   ]
  },
  {
   "cell_type": "code",
   "execution_count": 40,
   "metadata": {
    "ExecuteTime": {
     "end_time": "2020-09-01T16:38:11.805662Z",
     "start_time": "2020-09-01T16:38:11.510830Z"
    },
    "scrolled": false
   },
   "outputs": [
    {
     "data": {
      "text/plain": [
       "(<matplotlib.axes._subplots.AxesSubplot at 0x1d3c6241c88>,\n",
       " <matplotlib.axes._subplots.AxesSubplot at 0x1d3c6241c88>)"
      ]
     },
     "execution_count": 40,
     "metadata": {},
     "output_type": "execute_result"
    },
    {
     "data": {
      "image/png": "[encoded data removed]",
      "text/plain": [
       "<Figure size 432x288 with 1 Axes>"
      ]
     },
     "metadata": {
      "needs_background": "light"
     },
     "output_type": "display_data"
    }
   ],
   "source": [
    "sns.distplot(df.business_talent, hist=False, rug=True), sns.distplot(df.creativity, hist=False, rug=True)\n",
    "#df.creativity.describe(), df.business_talent.describe()\n",
    "\n",
    "# orange - creativity\n",
    "# blue - business talent"
   ]
  },
  {
   "cell_type": "markdown",
   "metadata": {},
   "source": [
    "## Linear regression & final results"
   ]
  },
  {
   "cell_type": "code",
   "execution_count": 41,
   "metadata": {
    "ExecuteTime": {
     "end_time": "2020-09-01T16:38:12.474841Z",
     "start_time": "2020-09-01T16:38:12.468847Z"
    }
   },
   "outputs": [],
   "source": [
    "X = df[['creativity', 'business_talent', 'leadership']]\n",
    "\n",
    "y_s = df['Finances']\n",
    "y_ex_loss = df.sum_loss\n",
    "y_ex_risk = df.sum_risk"
   ]
  },
  {
   "cell_type": "code",
   "execution_count": 42,
   "metadata": {
    "ExecuteTime": {
     "end_time": "2020-09-01T16:38:13.422838Z",
     "start_time": "2020-09-01T16:38:13.414846Z"
    }
   },
   "outputs": [],
   "source": [
    "def lin_reg_fun(X,y):\n",
    "    X = sm.add_constant(X)\n",
    "    model = sm.OLS(y, X)\n",
    "    results = model.fit()\n",
    "    print(results.summary())\n",
    "    \n",
    "    fig = sm.graphics.plot_partregress_grid(results)\n",
    "    fig.tight_layout(pad=1.0)\n",
    "    return(results)"
   ]
  },
  {
   "cell_type": "markdown",
   "metadata": {},
   "source": [
    "Risk aversion, survey-based"
   ]
  },
  {
   "cell_type": "code",
   "execution_count": 43,
   "metadata": {
    "ExecuteTime": {
     "end_time": "2020-09-01T16:38:15.112037Z",
     "start_time": "2020-09-01T16:38:14.381438Z"
    },
    "scrolled": true
   },
   "outputs": [
    {
     "name": "stdout",
     "output_type": "stream",
     "text": [
      "                            OLS Regression Results                            \n",
      "==============================================================================\n",
      "Dep. Variable:               Finances   R-squared:                       0.215\n",
      "Model:                            OLS   Adj. R-squared:                  0.182\n",
      "Method:                 Least Squares   F-statistic:                     6.560\n",
      "Date:                Tue, 01 Sep 2020   Prob (F-statistic):           0.000553\n",
      "Time:                        18:38:14   Log-Likelihood:                -148.10\n",
      "No. Observations:                  76   AIC:                             304.2\n",
      "Df Residuals:                      72   BIC:                             313.5\n",
      "Df Model:                           3                                         \n",
      "Covariance Type:            nonrobust                                         \n",
      "===================================================================================\n",
      "                      coef    std err          t      P>|t|      [0.025      0.975]\n",
      "-----------------------------------------------------------------------------------\n",
      "const               6.1053      0.200     30.502      0.000       5.706       6.504\n",
      "creativity          0.0139      0.210      0.066      0.947      -0.404       0.432\n",
      "business_talent    -0.6790      0.222     -3.061      0.003      -1.121      -0.237\n",
      "leadership         -0.6295      0.214     -2.939      0.004      -1.056      -0.203\n",
      "==============================================================================\n",
      "Omnibus:                        2.655   Durbin-Watson:                   2.057\n",
      "Prob(Omnibus):                  0.265   Jarque-Bera (JB):                2.286\n",
      "Skew:                          -0.312   Prob(JB):                        0.319\n",
      "Kurtosis:                       2.424   Cond. No.                         1.15\n",
      "==============================================================================\n",
      "\n",
      "Warnings:\n",
      "[1] Standard Errors assume that the covariance matrix of the errors is correctly specified.\n"
     ]
    },
    {
     "data": {
      "image/png": "[encoded data removed]",
      "text/plain": [
       "<Figure size 432x288 with 4 Axes>"
      ]
     },
     "metadata": {
      "needs_background": "light"
     },
     "output_type": "display_data"
    }
   ],
   "source": [
    "results = lin_reg_fun(X,y_s)"
   ]
  },
  {
   "cell_type": "markdown",
   "metadata": {},
   "source": [
    "Loss aversion"
   ]
  },
  {
   "cell_type": "code",
   "execution_count": 44,
   "metadata": {
    "ExecuteTime": {
     "end_time": "2020-09-01T16:38:15.972548Z",
     "start_time": "2020-09-01T16:38:15.141003Z"
    },
    "scrolled": true
   },
   "outputs": [
    {
     "name": "stdout",
     "output_type": "stream",
     "text": [
      "                            OLS Regression Results                            \n",
      "==============================================================================\n",
      "Dep. Variable:               sum_loss   R-squared:                       0.114\n",
      "Model:                            OLS   Adj. R-squared:                  0.077\n",
      "Method:                 Least Squares   F-statistic:                     3.096\n",
      "Date:                Tue, 01 Sep 2020   Prob (F-statistic):             0.0321\n",
      "Time:                        18:38:15   Log-Likelihood:                -168.20\n",
      "No. Observations:                  76   AIC:                             344.4\n",
      "Df Residuals:                      72   BIC:                             353.7\n",
      "Df Model:                           3                                         \n",
      "Covariance Type:            nonrobust                                         \n",
      "===================================================================================\n",
      "                      coef    std err          t      P>|t|      [0.025      0.975]\n",
      "-----------------------------------------------------------------------------------\n",
      "const               5.6053      0.261     21.494      0.000       5.085       6.125\n",
      "creativity         -0.1604      0.273     -0.586      0.559      -0.705       0.385\n",
      "business_talent    -0.7584      0.289     -2.624      0.011      -1.335      -0.182\n",
      "leadership         -0.3134      0.279     -1.123      0.265      -0.870       0.243\n",
      "==============================================================================\n",
      "Omnibus:                        1.968   Durbin-Watson:                   1.600\n",
      "Prob(Omnibus):                  0.374   Jarque-Bera (JB):                1.643\n",
      "Skew:                          -0.360   Prob(JB):                        0.440\n",
      "Kurtosis:                       3.004   Cond. No.                         1.15\n",
      "==============================================================================\n",
      "\n",
      "Warnings:\n",
      "[1] Standard Errors assume that the covariance matrix of the errors is correctly specified.\n"
     ]
    },
    {
     "data": {
      "image/png": "[encoded data removed]",
      "text/plain": [
       "<Figure size 432x288 with 4 Axes>"
      ]
     },
     "metadata": {
      "needs_background": "light"
     },
     "output_type": "display_data"
    }
   ],
   "source": [
    "results = lin_reg_fun(X,y_ex_loss)"
   ]
  },
  {
   "cell_type": "markdown",
   "metadata": {},
   "source": [
    "Risk aversion experimental-based"
   ]
  },
  {
   "cell_type": "code",
   "execution_count": 45,
   "metadata": {
    "ExecuteTime": {
     "end_time": "2020-09-01T16:38:16.769074Z",
     "start_time": "2020-09-01T16:38:15.975527Z"
    }
   },
   "outputs": [
    {
     "name": "stdout",
     "output_type": "stream",
     "text": [
      "                            OLS Regression Results                            \n",
      "==============================================================================\n",
      "Dep. Variable:               sum_risk   R-squared:                       0.045\n",
      "Model:                            OLS   Adj. R-squared:                  0.005\n",
      "Method:                 Least Squares   F-statistic:                     1.129\n",
      "Date:                Tue, 01 Sep 2020   Prob (F-statistic):              0.343\n",
      "Time:                        18:38:15   Log-Likelihood:                -152.53\n",
      "No. Observations:                  76   AIC:                             313.1\n",
      "Df Residuals:                      72   BIC:                             322.4\n",
      "Df Model:                           3                                         \n",
      "Covariance Type:            nonrobust                                         \n",
      "===================================================================================\n",
      "                      coef    std err          t      P>|t|      [0.025      0.975]\n",
      "-----------------------------------------------------------------------------------\n",
      "const               5.6184      0.212     26.480      0.000       5.195       6.041\n",
      "creativity         -0.1626      0.222     -0.731      0.467      -0.606       0.281\n",
      "business_talent    -0.3038      0.235     -1.292      0.201      -0.772       0.165\n",
      "leadership         -0.2075      0.227     -0.914      0.364      -0.660       0.245\n",
      "==============================================================================\n",
      "Omnibus:                        2.174   Durbin-Watson:                   1.571\n",
      "Prob(Omnibus):                  0.337   Jarque-Bera (JB):                1.668\n",
      "Skew:                           0.000   Prob(JB):                        0.434\n",
      "Kurtosis:                       3.726   Cond. No.                         1.15\n",
      "==============================================================================\n",
      "\n",
      "Warnings:\n",
      "[1] Standard Errors assume that the covariance matrix of the errors is correctly specified.\n"
     ]
    },
    {
     "data": {
      "image/png": "[encoded data removed]",
      "text/plain": [
       "<Figure size 432x288 with 4 Axes>"
      ]
     },
     "metadata": {
      "needs_background": "light"
     },
     "output_type": "display_data"
    }
   ],
   "source": [
    "results = lin_reg_fun(X,y_ex_risk)"
   ]
  },
  {
   "cell_type": "code",
   "execution_count": 46,
   "metadata": {
    "ExecuteTime": {
     "end_time": "2020-09-01T16:38:17.018931Z",
     "start_time": "2020-09-01T16:38:16.772071Z"
    }
   },
   "outputs": [
    {
     "data": {
      "image/png": "[encoded data removed]",
      "text/plain": [
       "<Figure size 432x288 with 1 Axes>"
      ]
     },
     "metadata": {
      "needs_background": "light"
     },
     "output_type": "display_data"
    }
   ],
   "source": [
    "fig = sm.graphics.plot_ccpr(results, \"creativity\")\n",
    "fig.tight_layout(pad=1.0)"
   ]
  }
 ],
 "metadata": {
  "kernelspec": {
   "display_name": "Python 3",
   "language": "python",
   "name": "python3"
  },
  "language_info": {
   "codemirror_mode": {
    "name": "ipython",
    "version": 3
   },
   "file_extension": ".py",
   "mimetype": "text/x-python",
   "name": "python",
   "nbconvert_exporter": "python",
   "pygments_lexer": "ipython3",
   "version": "3.7.3"
  }
 },
 "nbformat": 4,
 "nbformat_minor": 2
}
